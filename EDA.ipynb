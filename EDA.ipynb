{
 "cells": [
  {
   "cell_type": "markdown",
   "id": "e0618853",
   "metadata": {},
   "source": [
    "# Exploratory Data Analysis"
   ]
  },
  {
   "cell_type": "markdown",
   "id": "b26e2309",
   "metadata": {},
   "source": [
    "### We will use describe(), info(), value_counts().\n",
    "### Explore summary statistics\n",
    "### Analyze numerical & categorical data"
   ]
  },
  {
   "cell_type": "markdown",
   "id": "1b36be66",
   "metadata": {},
   "source": [
    "#### Exploratory Data Analysis is the initial step in data analysis where we explore the dataset to understand its structure, detect patterns, spot anomalies, test hypotheses, and check assumption using summary stats, visualization and grouping techniques"
   ]
  },
  {
   "cell_type": "markdown",
   "id": "125245f3",
   "metadata": {},
   "source": [
    "**1. Reading the CSV**"
   ]
  },
  {
   "cell_type": "code",
   "execution_count": 2,
   "id": "42de0558",
   "metadata": {},
   "outputs": [],
   "source": [
    "import pandas as pd\n",
    "df = pd.read_csv(\"students.csv\")"
   ]
  },
  {
   "cell_type": "markdown",
   "id": "06401852",
   "metadata": {},
   "source": [
    "**2. Looking at the Structure**"
   ]
  },
  {
   "cell_type": "code",
   "execution_count": 3,
   "id": "f5a8673b",
   "metadata": {},
   "outputs": [
    {
     "data": {
      "text/html": [
       "<div>\n",
       "<style scoped>\n",
       "    .dataframe tbody tr th:only-of-type {\n",
       "        vertical-align: middle;\n",
       "    }\n",
       "\n",
       "    .dataframe tbody tr th {\n",
       "        vertical-align: top;\n",
       "    }\n",
       "\n",
       "    .dataframe thead th {\n",
       "        text-align: right;\n",
       "    }\n",
       "</style>\n",
       "<table border=\"1\" class=\"dataframe\">\n",
       "  <thead>\n",
       "    <tr style=\"text-align: right;\">\n",
       "      <th></th>\n",
       "      <th>Name</th>\n",
       "      <th>Gender</th>\n",
       "      <th>Age</th>\n",
       "      <th>Course</th>\n",
       "      <th>Score</th>\n",
       "      <th>Passed</th>\n",
       "    </tr>\n",
       "  </thead>\n",
       "  <tbody>\n",
       "    <tr>\n",
       "      <th>0</th>\n",
       "      <td>Ravi</td>\n",
       "      <td>Male</td>\n",
       "      <td>21</td>\n",
       "      <td>Python</td>\n",
       "      <td>88</td>\n",
       "      <td>Yes</td>\n",
       "    </tr>\n",
       "    <tr>\n",
       "      <th>1</th>\n",
       "      <td>Sneha</td>\n",
       "      <td>Female</td>\n",
       "      <td>22</td>\n",
       "      <td>Java</td>\n",
       "      <td>79</td>\n",
       "      <td>Yes</td>\n",
       "    </tr>\n",
       "    <tr>\n",
       "      <th>2</th>\n",
       "      <td>Arjun</td>\n",
       "      <td>Male</td>\n",
       "      <td>20</td>\n",
       "      <td>Python</td>\n",
       "      <td>62</td>\n",
       "      <td>No</td>\n",
       "    </tr>\n",
       "    <tr>\n",
       "      <th>3</th>\n",
       "      <td>Diya</td>\n",
       "      <td>Female</td>\n",
       "      <td>23</td>\n",
       "      <td>Data Science</td>\n",
       "      <td>91</td>\n",
       "      <td>Yes</td>\n",
       "    </tr>\n",
       "    <tr>\n",
       "      <th>4</th>\n",
       "      <td>Rishi</td>\n",
       "      <td>Male</td>\n",
       "      <td>24</td>\n",
       "      <td>Python</td>\n",
       "      <td>55</td>\n",
       "      <td>No</td>\n",
       "    </tr>\n",
       "  </tbody>\n",
       "</table>\n",
       "</div>"
      ],
      "text/plain": [
       "    Name  Gender  Age        Course  Score Passed\n",
       "0   Ravi    Male   21        Python     88    Yes\n",
       "1  Sneha  Female   22          Java     79    Yes\n",
       "2  Arjun    Male   20        Python     62     No\n",
       "3   Diya  Female   23  Data Science     91    Yes\n",
       "4  Rishi    Male   24        Python     55     No"
      ]
     },
     "execution_count": 3,
     "metadata": {},
     "output_type": "execute_result"
    }
   ],
   "source": [
    "df.head()"
   ]
  },
  {
   "cell_type": "code",
   "execution_count": 4,
   "id": "59e3ec2c",
   "metadata": {},
   "outputs": [
    {
     "data": {
      "text/html": [
       "<div>\n",
       "<style scoped>\n",
       "    .dataframe tbody tr th:only-of-type {\n",
       "        vertical-align: middle;\n",
       "    }\n",
       "\n",
       "    .dataframe tbody tr th {\n",
       "        vertical-align: top;\n",
       "    }\n",
       "\n",
       "    .dataframe thead th {\n",
       "        text-align: right;\n",
       "    }\n",
       "</style>\n",
       "<table border=\"1\" class=\"dataframe\">\n",
       "  <thead>\n",
       "    <tr style=\"text-align: right;\">\n",
       "      <th></th>\n",
       "      <th>Name</th>\n",
       "      <th>Gender</th>\n",
       "      <th>Age</th>\n",
       "      <th>Course</th>\n",
       "      <th>Score</th>\n",
       "      <th>Passed</th>\n",
       "    </tr>\n",
       "  </thead>\n",
       "  <tbody>\n",
       "    <tr>\n",
       "      <th>0</th>\n",
       "      <td>Ravi</td>\n",
       "      <td>Male</td>\n",
       "      <td>21</td>\n",
       "      <td>Python</td>\n",
       "      <td>88</td>\n",
       "      <td>Yes</td>\n",
       "    </tr>\n",
       "    <tr>\n",
       "      <th>1</th>\n",
       "      <td>Sneha</td>\n",
       "      <td>Female</td>\n",
       "      <td>22</td>\n",
       "      <td>Java</td>\n",
       "      <td>79</td>\n",
       "      <td>Yes</td>\n",
       "    </tr>\n",
       "    <tr>\n",
       "      <th>2</th>\n",
       "      <td>Arjun</td>\n",
       "      <td>Male</td>\n",
       "      <td>20</td>\n",
       "      <td>Python</td>\n",
       "      <td>62</td>\n",
       "      <td>No</td>\n",
       "    </tr>\n",
       "    <tr>\n",
       "      <th>3</th>\n",
       "      <td>Diya</td>\n",
       "      <td>Female</td>\n",
       "      <td>23</td>\n",
       "      <td>Data Science</td>\n",
       "      <td>91</td>\n",
       "      <td>Yes</td>\n",
       "    </tr>\n",
       "    <tr>\n",
       "      <th>4</th>\n",
       "      <td>Rishi</td>\n",
       "      <td>Male</td>\n",
       "      <td>24</td>\n",
       "      <td>Python</td>\n",
       "      <td>55</td>\n",
       "      <td>No</td>\n",
       "    </tr>\n",
       "  </tbody>\n",
       "</table>\n",
       "</div>"
      ],
      "text/plain": [
       "    Name  Gender  Age        Course  Score Passed\n",
       "0   Ravi    Male   21        Python     88    Yes\n",
       "1  Sneha  Female   22          Java     79    Yes\n",
       "2  Arjun    Male   20        Python     62     No\n",
       "3   Diya  Female   23  Data Science     91    Yes\n",
       "4  Rishi    Male   24        Python     55     No"
      ]
     },
     "execution_count": 4,
     "metadata": {},
     "output_type": "execute_result"
    }
   ],
   "source": [
    "df.tail()"
   ]
  },
  {
   "cell_type": "code",
   "execution_count": 6,
   "id": "1e65287b",
   "metadata": {},
   "outputs": [
    {
     "data": {
      "text/plain": [
       "(5, 6)"
      ]
     },
     "execution_count": 6,
     "metadata": {},
     "output_type": "execute_result"
    }
   ],
   "source": [
    "df.shape"
   ]
  },
  {
   "cell_type": "markdown",
   "id": "00007b8d",
   "metadata": {},
   "source": [
    "**3. Dataset Overview**"
   ]
  },
  {
   "cell_type": "code",
   "execution_count": 8,
   "id": "085e7b11",
   "metadata": {},
   "outputs": [
    {
     "name": "stdout",
     "output_type": "stream",
     "text": [
      "<class 'pandas.core.frame.DataFrame'>\n",
      "RangeIndex: 5 entries, 0 to 4\n",
      "Data columns (total 6 columns):\n",
      " #   Column  Non-Null Count  Dtype \n",
      "---  ------  --------------  ----- \n",
      " 0   Name    5 non-null      object\n",
      " 1   Gender  5 non-null      object\n",
      " 2   Age     5 non-null      int64 \n",
      " 3   Course  5 non-null      object\n",
      " 4   Score   5 non-null      int64 \n",
      " 5   Passed  5 non-null      object\n",
      "dtypes: int64(2), object(4)\n",
      "memory usage: 372.0+ bytes\n"
     ]
    }
   ],
   "source": [
    "df.info()"
   ]
  },
  {
   "cell_type": "markdown",
   "id": "f7a5a9af",
   "metadata": {},
   "source": [
    "__4. Descriptive Statistics__"
   ]
  },
  {
   "cell_type": "code",
   "execution_count": 9,
   "id": "a5790d09",
   "metadata": {},
   "outputs": [
    {
     "data": {
      "text/html": [
       "<div>\n",
       "<style scoped>\n",
       "    .dataframe tbody tr th:only-of-type {\n",
       "        vertical-align: middle;\n",
       "    }\n",
       "\n",
       "    .dataframe tbody tr th {\n",
       "        vertical-align: top;\n",
       "    }\n",
       "\n",
       "    .dataframe thead th {\n",
       "        text-align: right;\n",
       "    }\n",
       "</style>\n",
       "<table border=\"1\" class=\"dataframe\">\n",
       "  <thead>\n",
       "    <tr style=\"text-align: right;\">\n",
       "      <th></th>\n",
       "      <th>Age</th>\n",
       "      <th>Score</th>\n",
       "    </tr>\n",
       "  </thead>\n",
       "  <tbody>\n",
       "    <tr>\n",
       "      <th>count</th>\n",
       "      <td>5.000000</td>\n",
       "      <td>5.000000</td>\n",
       "    </tr>\n",
       "    <tr>\n",
       "      <th>mean</th>\n",
       "      <td>22.000000</td>\n",
       "      <td>75.000000</td>\n",
       "    </tr>\n",
       "    <tr>\n",
       "      <th>std</th>\n",
       "      <td>1.581139</td>\n",
       "      <td>15.890249</td>\n",
       "    </tr>\n",
       "    <tr>\n",
       "      <th>min</th>\n",
       "      <td>20.000000</td>\n",
       "      <td>55.000000</td>\n",
       "    </tr>\n",
       "    <tr>\n",
       "      <th>25%</th>\n",
       "      <td>21.000000</td>\n",
       "      <td>62.000000</td>\n",
       "    </tr>\n",
       "    <tr>\n",
       "      <th>50%</th>\n",
       "      <td>22.000000</td>\n",
       "      <td>79.000000</td>\n",
       "    </tr>\n",
       "    <tr>\n",
       "      <th>75%</th>\n",
       "      <td>23.000000</td>\n",
       "      <td>88.000000</td>\n",
       "    </tr>\n",
       "    <tr>\n",
       "      <th>max</th>\n",
       "      <td>24.000000</td>\n",
       "      <td>91.000000</td>\n",
       "    </tr>\n",
       "  </tbody>\n",
       "</table>\n",
       "</div>"
      ],
      "text/plain": [
       "             Age      Score\n",
       "count   5.000000   5.000000\n",
       "mean   22.000000  75.000000\n",
       "std     1.581139  15.890249\n",
       "min    20.000000  55.000000\n",
       "25%    21.000000  62.000000\n",
       "50%    22.000000  79.000000\n",
       "75%    23.000000  88.000000\n",
       "max    24.000000  91.000000"
      ]
     },
     "execution_count": 9,
     "metadata": {},
     "output_type": "execute_result"
    }
   ],
   "source": [
    "df.describe()"
   ]
  },
  {
   "cell_type": "markdown",
   "id": "b147120c",
   "metadata": {},
   "source": [
    "| Metric        | Meaning                                          |\n",
    "| ------------- | ------------------------------------------------ |\n",
    "| count         | Number of non-null entries                       |\n",
    "| mean          | Average value                                    |\n",
    "| std           | Standard deviation                               |\n",
    "| min/max       | Smallest and largest values                      |\n",
    "| 25%, 50%, 75% | Percentile spread (useful for outlier detection) |\n"
   ]
  },
  {
   "cell_type": "markdown",
   "id": "19f6ce07",
   "metadata": {},
   "source": [
    "__5. Analyzing Categorical Data__"
   ]
  },
  {
   "cell_type": "code",
   "execution_count": null,
   "id": "e3fd7dfe",
   "metadata": {},
   "outputs": [
    {
     "data": {
      "text/plain": [
       "Course\n",
       "Python          3\n",
       "Java            1\n",
       "Data Science    1\n",
       "Name: count, dtype: int64"
      ]
     },
     "execution_count": 10,
     "metadata": {},
     "output_type": "execute_result"
    }
   ],
   "source": [
    "df['Course'].value_counts() \n",
    "# Gives frequency of each unique values"
   ]
  },
  {
   "cell_type": "code",
   "execution_count": null,
   "id": "295c3f1c",
   "metadata": {},
   "outputs": [
    {
     "data": {
      "text/plain": [
       "Gender\n",
       "Male      0.6\n",
       "Female    0.4\n",
       "Name: proportion, dtype: float64"
      ]
     },
     "execution_count": 12,
     "metadata": {},
     "output_type": "execute_result"
    }
   ],
   "source": [
    "df['Gender'].value_counts(normalize=True) \n",
    "# In a gender equality study, this can tell if there's a skewed make:female ratio in applicants"
   ]
  },
  {
   "cell_type": "markdown",
   "id": "f8cc9ba3",
   "metadata": {},
   "source": [
    "__6. Grouped Insights__"
   ]
  },
  {
   "cell_type": "code",
   "execution_count": 14,
   "id": "73f88159",
   "metadata": {},
   "outputs": [
    {
     "data": {
      "text/plain": [
       "Course\n",
       "Data Science    91.000000\n",
       "Java            79.000000\n",
       "Python          68.333333\n",
       "Name: Score, dtype: float64"
      ]
     },
     "execution_count": 14,
     "metadata": {},
     "output_type": "execute_result"
    }
   ],
   "source": [
    "df.groupby('Course')['Score'].mean()\n",
    "# Will return average of the scores of corresponding courses-> Gives avg score per course"
   ]
  },
  {
   "cell_type": "code",
   "execution_count": null,
   "id": "91facddd",
   "metadata": {},
   "outputs": [
    {
     "data": {
      "text/html": [
       "<div>\n",
       "<style scoped>\n",
       "    .dataframe tbody tr th:only-of-type {\n",
       "        vertical-align: middle;\n",
       "    }\n",
       "\n",
       "    .dataframe tbody tr th {\n",
       "        vertical-align: top;\n",
       "    }\n",
       "\n",
       "    .dataframe thead th {\n",
       "        text-align: right;\n",
       "    }\n",
       "</style>\n",
       "<table border=\"1\" class=\"dataframe\">\n",
       "  <thead>\n",
       "    <tr style=\"text-align: right;\">\n",
       "      <th></th>\n",
       "      <th>count</th>\n",
       "      <th>mean</th>\n",
       "      <th>std</th>\n",
       "      <th>min</th>\n",
       "      <th>25%</th>\n",
       "      <th>50%</th>\n",
       "      <th>75%</th>\n",
       "      <th>max</th>\n",
       "    </tr>\n",
       "    <tr>\n",
       "      <th>Course</th>\n",
       "      <th></th>\n",
       "      <th></th>\n",
       "      <th></th>\n",
       "      <th></th>\n",
       "      <th></th>\n",
       "      <th></th>\n",
       "      <th></th>\n",
       "      <th></th>\n",
       "    </tr>\n",
       "  </thead>\n",
       "  <tbody>\n",
       "    <tr>\n",
       "      <th>Data Science</th>\n",
       "      <td>1.0</td>\n",
       "      <td>91.000000</td>\n",
       "      <td>NaN</td>\n",
       "      <td>91.0</td>\n",
       "      <td>91.0</td>\n",
       "      <td>91.0</td>\n",
       "      <td>91.0</td>\n",
       "      <td>91.0</td>\n",
       "    </tr>\n",
       "    <tr>\n",
       "      <th>Java</th>\n",
       "      <td>1.0</td>\n",
       "      <td>79.000000</td>\n",
       "      <td>NaN</td>\n",
       "      <td>79.0</td>\n",
       "      <td>79.0</td>\n",
       "      <td>79.0</td>\n",
       "      <td>79.0</td>\n",
       "      <td>79.0</td>\n",
       "    </tr>\n",
       "    <tr>\n",
       "      <th>Python</th>\n",
       "      <td>3.0</td>\n",
       "      <td>68.333333</td>\n",
       "      <td>17.387735</td>\n",
       "      <td>55.0</td>\n",
       "      <td>58.5</td>\n",
       "      <td>62.0</td>\n",
       "      <td>75.0</td>\n",
       "      <td>88.0</td>\n",
       "    </tr>\n",
       "  </tbody>\n",
       "</table>\n",
       "</div>"
      ],
      "text/plain": [
       "              count       mean        std   min   25%   50%   75%   max\n",
       "Course                                                                 \n",
       "Data Science    1.0  91.000000        NaN  91.0  91.0  91.0  91.0  91.0\n",
       "Java            1.0  79.000000        NaN  79.0  79.0  79.0  79.0  79.0\n",
       "Python          3.0  68.333333  17.387735  55.0  58.5  62.0  75.0  88.0"
      ]
     },
     "execution_count": 15,
     "metadata": {},
     "output_type": "execute_result"
    }
   ],
   "source": [
    "df.groupby('Course')['Score'].describe()"
   ]
  },
  {
   "cell_type": "code",
   "execution_count": 16,
   "id": "1fbc3be3",
   "metadata": {},
   "outputs": [
    {
     "data": {
      "text/plain": [
       "Course        Passed\n",
       "Data Science  Yes       1\n",
       "Java          Yes       1\n",
       "Python        No        2\n",
       "              Yes       1\n",
       "Name: count, dtype: int64"
      ]
     },
     "execution_count": 16,
     "metadata": {},
     "output_type": "execute_result"
    }
   ],
   "source": [
    "df.groupby('Course')['Passed'].value_counts()"
   ]
  },
  {
   "cell_type": "code",
   "execution_count": null,
   "id": "ce57a841",
   "metadata": {},
   "outputs": [],
   "source": []
  }
 ],
 "metadata": {
  "kernelspec": {
   "display_name": ".venv",
   "language": "python",
   "name": "python3"
  },
  "language_info": {
   "codemirror_mode": {
    "name": "ipython",
    "version": 3
   },
   "file_extension": ".py",
   "mimetype": "text/x-python",
   "name": "python",
   "nbconvert_exporter": "python",
   "pygments_lexer": "ipython3",
   "version": "3.13.5"
  }
 },
 "nbformat": 4,
 "nbformat_minor": 5
}
